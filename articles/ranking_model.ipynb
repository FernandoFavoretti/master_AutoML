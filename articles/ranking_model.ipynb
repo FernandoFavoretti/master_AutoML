{
 "cells": [
  {
   "cell_type": "code",
   "execution_count": 102,
   "metadata": {},
   "outputs": [],
   "source": [
    "import pandas as pd\n",
    "import numpy as np\n",
    "from sklearn.model_selection import train_test_split\n",
    "from sklearn.preprocessing import MinMaxScaler\n",
    "import operator\n",
    "import itertools\n",
    "import scipy.stats as stats\n",
    "import pymit\n",
    "from tqdm import tqdm\n",
    "import traceback\n",
    "from category_encoders import one_hot, target_encoder\n",
    "import joblib"
   ]
  },
  {
   "cell_type": "code",
   "execution_count": 103,
   "metadata": {},
   "outputs": [],
   "source": [
    "def calc_y(df):\n",
    "    th = np.round(df['feature_goodness'].describe()['75%'],4)\n",
    "    df['y'] = 0\n",
    "    df.loc[df['feature_goodness'] >= th, 'y'] = 1\n",
    "    return df"
   ]
  },
  {
   "cell_type": "code",
   "execution_count": 104,
   "metadata": {},
   "outputs": [],
   "source": [
    "import glob\n",
    "\n",
    "\n",
    "all_dfs = []\n",
    "for file in glob.glob(\"ExploreKit/*meta*.df\"):\n",
    "    thisdf = joblib.load(file)\n",
    "    thisdf = calc_y(thisdf.copy())\n",
    "    all_dfs.append(thisdf)"
   ]
  },
  {
   "cell_type": "code",
   "execution_count": 105,
   "metadata": {},
   "outputs": [],
   "source": [
    "final_df = pd.concat(all_dfs)"
   ]
  },
  {
   "cell_type": "code",
   "execution_count": 106,
   "metadata": {},
   "outputs": [],
   "source": [
    "final_df.index = final_df.feature_name"
   ]
  },
  {
   "cell_type": "code",
   "execution_count": 107,
   "metadata": {},
   "outputs": [],
   "source": [
    "final_df = final_df.drop(['feature_name', 'feature_goodness', 'dataset', 'V30_avg_t', 'V30_std_t', 'V30_max_t', 'V30_min_t'], axis=1)"
   ]
  },
  {
   "cell_type": "code",
   "execution_count": 108,
   "metadata": {},
   "outputs": [],
   "source": [
    "def clean_df(df, taret, positive_target):\n",
    "    \n",
    "    def remove_collinear_features(x, threshold=0.8):\n",
    "        '''\n",
    "        Objective:\n",
    "            Remove collinear features in a dataframe with a correlation coefficient\n",
    "            greater than the threshold. Removing collinear features can help a model \n",
    "            to generalize and improves the interpretability of the model.\n",
    "\n",
    "        Inputs: \n",
    "            x: features dataframe\n",
    "            threshold: features with correlations greater than this value are removed\n",
    "\n",
    "        Output: \n",
    "            dataframe that contains only the non-highly-collinear features\n",
    "        '''\n",
    "\n",
    "        # Calculate the correlation matrix\n",
    "        corr_matrix = x.corr()\n",
    "        iters = range(len(corr_matrix.columns) - 1)\n",
    "        drop_cols = []\n",
    "\n",
    "        # Iterate through the correlation matrix and compare correlations\n",
    "        for i in iters:\n",
    "            for j in range(i+1):\n",
    "                item = corr_matrix.iloc[j:(j+1), (i+1):(i+2)]\n",
    "                col = item.columns\n",
    "                row = item.index\n",
    "                val = abs(item.values)\n",
    "\n",
    "                # If correlation exceeds the threshold\n",
    "                if val >= threshold:\n",
    "                    # Print the correlated features and the correlation value\n",
    "                    print(col.values[0], \"|\", row.values[0], \"|\", round(val[0][0], 2))\n",
    "                    drop_cols.append(col.values[0])\n",
    "\n",
    "        # Drop one of each pair of correlated columns\n",
    "        drops = set(drop_cols)\n",
    "        print(f\"Dropped cols: {drops} by corr\")\n",
    "        x = x.drop(columns=drops)\n",
    "\n",
    "        return x\n",
    "    \n",
    "    def clean_target(df, target, positive_target):\n",
    "        df.loc[df[target] != positive_target, target] = 0\n",
    "        df.loc[df[target] == positive_target, target] = 1\n",
    "        y_all = df[[target]].astype(int)\n",
    "        X_all = df.drop([target], axis=1)\n",
    "        return X_all, y_all\n",
    "    \n",
    "    def nulls(df, th_del=0.8, th_mean=0.2):\n",
    "        df = df.replace([np.inf, -np.inf], np.nan)\n",
    "        null = df.isnull().sum().sort_values()[::-1]\n",
    "        null = null[null > 0] / len(df)\n",
    "        null = pd.concat([df[null.index].dtypes, null],axis=1)\n",
    "        null.columns=['dtype', 'ratio_null']\n",
    "        null.index.name = 'feature'\n",
    "        dict_ops = {}\n",
    "        if null.empty:\n",
    "            return df\n",
    "        \n",
    "        for idx, row in null.iterrows():\n",
    "            \n",
    "            if row['ratio_null'] > th_del:\n",
    "                df = df.drop(idx, axis=1)\n",
    "            \n",
    "            elif row['ratio_null'] < th_mean and  row['dtype'] != 'object':\n",
    "                df[idx] = df[idx].fillna(df[idx].mean())\n",
    "            \n",
    "            else:\n",
    "                if row['dtype'] == 'object':\n",
    "                    df[idx] = df[idx].fillna('my_nan_value')\n",
    "                else:\n",
    "                    df[idx] = df[idx].fillna(df[idx].min()*1000)\n",
    "        \n",
    "        return df\n",
    "    \n",
    "    def clean_groups(df, target, max_group_size=0):\n",
    "        is_object = ['object']\n",
    "        object_features = list(df.select_dtypes(include=is_object).columns)\n",
    "        if target in object_features:\n",
    "            object_features.remove(target)\n",
    "        for col in object_features:\n",
    "            try:\n",
    "                df[col] = df[col].astype(float)\n",
    "            except:\n",
    "                len_unique = len(df[col].unique())\n",
    "                if len_unique < max_group_size:\n",
    "                    df = df.rename({col: f\"{col}_group\"},axis=1)\n",
    "                else:\n",
    "                    df = df.rename({col: f\"{col}_mean_encode\"},axis=1)\n",
    "        return df\n",
    "                    \n",
    "        \n",
    "    \n",
    "    df = nulls(df.copy())\n",
    "    df = clean_groups(df.copy(), target)\n",
    "#     df = remove_collinear_features(df.copy(), threshold=0.9)\n",
    "    X_all, y_all = clean_target(df.copy(), target, positive_target)\n",
    "    return X_all, y_all\n",
    "\n",
    "def prepare_bases_to_modeling(X_train_ori, X_test_ori):\n",
    "    \n",
    "    one_hot_cols = [x for x in X_train_ori.columns if 'group' in x]\n",
    "    mean_encoding_cols = [x for x in X_train_ori.columns if 'encode' in x]\n",
    "\n",
    "    if len(one_hot_cols) > 0:\n",
    "        enc = one_hot.OneHotEncoder(cols=one_hot_cols, drop_invariant=True)\n",
    "        X_train_ori = enc.fit_transform(X_train_ori.copy())\n",
    "        joblib.dump(enc, 'ExploreKit/enc_onehot_pred')\n",
    "        X_test_ori = enc.transform(X_test_ori.copy())\n",
    "#         X_train = X_train.drop(ORIGINAL_FEATURES, axis=1)\n",
    "#         X_train = pd.concat([X_train, X_train_ori], axis=1)\n",
    "#         X_test = pd.concat([X_test, X_test_ori], axis=1)\n",
    "\n",
    "    if len(mean_encoding_cols) > 0:\n",
    "        enc = target_encoder.TargetEncoder(cols=mean_encoding_cols, drop_invariant=True)\n",
    "        X_train_ori = training_numeric_dataset = enc.fit_transform(X_train_ori.copy(), y_train)\n",
    "        joblib.dump(enc, 'ExploreKit/enc_mean_pred')\n",
    "        X_test_ori = testing_numeric_dataset = enc.transform(X_test_ori.copy())\n",
    "#         X_train = X_train.drop(ORIGINAL_FEATURES, axis=1)\n",
    "#         X_train = pd.concat([X_train, X_train_ori], axis=1)\n",
    "#         X_test = pd.concat([X_test, X_test_ori], axis=1)\n",
    "    \n",
    "    return X_train_ori, X_test_ori\n",
    "    "
   ]
  },
  {
   "cell_type": "code",
   "execution_count": 109,
   "metadata": {},
   "outputs": [],
   "source": [
    "target='y'\n",
    "positive_target=1\n",
    "X_all, y_all = clean_df(final_df.copy(), target, positive_target)\n"
   ]
  },
  {
   "cell_type": "code",
   "execution_count": 112,
   "metadata": {},
   "outputs": [
    {
     "data": {
      "text/plain": [
       "Index(['num_sources', 'num_numeric_sources', 'num_discrete_sources',\n",
       "       'discretizer_in_use', 'normalizer_in_use', 'group_in_use',\n",
       "       'binary_in_use', 'max_discrete_source_value',\n",
       "       'min_discrete_source_value', 'avg_discrete_source_value',\n",
       "       'std_discrete_source_value', 'max_chi_source_opattr_value',\n",
       "       'min_chi_source_opattr_value', 'avg_chi_source_opattr_value',\n",
       "       'std_chi_source_opattr_value', 'max_numeric_source_value',\n",
       "       'min_numeric_source_value', 'avg_numeric_source_value',\n",
       "       'std_numeric_source_value', 'max_ttest_source_opattr_value',\n",
       "       'min_ttest_source_opattr_value', 'avg_ttest_source_opattr_value',\n",
       "       'std_ttest_source_opattr_value', 'feat_mutual_info', 'num_instances',\n",
       "       'num_features', 'num_numeric_attr', 'num_discrete_attr',\n",
       "       'ratio_numeric_attr', 'ratio_discrete_attr', 'f1_0.4', 'precision_0.4',\n",
       "       'recall_0.4', 'f1_0.45', 'precision_0.45', 'recall_0.45', 'f1_0.5',\n",
       "       'precision_0.5', 'recall_0.5', 'f1_0.6', 'precision_0.6', 'recall_0.6',\n",
       "       'f1_0.65', 'precision_0.65', 'recall_0.65', 'f1_0.7', 'precision_0.7',\n",
       "       'recall_0.7', 'f1_0.75', 'precision_0.75', 'recall_0.75', 'f1_0.8',\n",
       "       'precision_0.8', 'recall_0.8', 'f1_0.85', 'precision_0.85',\n",
       "       'recall_0.85', 'f1_0.9', 'precision_0.9', 'recall_0.9', 'auc', 'avg_f1',\n",
       "       'std_f1', 'max_f1', 'min_f1', 'avg_precision', 'std_precision',\n",
       "       'max_precision', 'min_precision', 'avg_recall', 'std_recall',\n",
       "       'max_recall', 'min_recall', 'avg_mi', 'std_mi', 'min_mi', 'max_mi',\n",
       "       'avg_t', 'std_t', 'max_t', 'min_t', 'avg_chi', 'std_chi', 'max_chi',\n",
       "       'min_chi'],\n",
       "      dtype='object')"
      ]
     },
     "execution_count": 112,
     "metadata": {},
     "output_type": "execute_result"
    }
   ],
   "source": [
    "X_all.columns"
   ]
  },
  {
   "cell_type": "code",
   "execution_count": 110,
   "metadata": {},
   "outputs": [],
   "source": [
    "X_train_ori, X_test_ori, y_train, y_test = train_test_split(X_all, y_all, test_size = 0.3, random_state = 0)\n",
    "X_train_ori, X_test_ori = prepare_bases_to_modeling(X_train_ori.copy(), X_test_ori.copy())"
   ]
  },
  {
   "cell_type": "code",
   "execution_count": 72,
   "metadata": {},
   "outputs": [],
   "source": [
    "core_params  = {'num_boost_round': 1000, 'verbose_eval':True}\n",
    "\n",
    "hyper_params_clf = {    \n",
    "    'task': 'train',\n",
    "    'objective': 'binary:logistic',\n",
    "    'metric': 'binary_error',\n",
    "    'learning_rate':  0.1,\n",
    "    'num_leaves': 24,\n",
    "    'colsample_bytree': 0.7,\n",
    "    'lambda': 0.02\n",
    "}"
   ]
  },
  {
   "cell_type": "code",
   "execution_count": 73,
   "metadata": {},
   "outputs": [
    {
     "name": "stdout",
     "output_type": "stream",
     "text": [
      "[14:23:01] WARNING: ../src/learner.cc:541: \n",
      "Parameters: { metric, num_leaves, task } might not be used.\n",
      "\n",
      "  This may not be accurate due to some parameters are only used in language bindings but\n",
      "  passed down to XGBoost core.  Or some parameters are not used but slip through this\n",
      "  verification. Please open an issue if you find above cases.\n",
      "\n",
      "\n",
      "[14:23:01] WARNING: ../src/learner.cc:1061: Starting in XGBoost 1.3.0, the default evaluation metric used with the objective 'binary:logistic' was changed from 'error' to 'logloss'. Explicitly set eval_metric if you'd like to restore the old behavior.\n"
     ]
    }
   ],
   "source": [
    "from fangorn.training import classifiers\n",
    "\n",
    "this_clf = classifiers.xgb_classifier(train_set= [X_train_ori, y_train],\n",
    "                     test_set= [X_test_ori, y_test],\n",
    "                     features= X_train_ori.columns,\n",
    "                     core_params=core_params,\n",
    "                     hyper_params=hyper_params_clf,\n",
    "                     target= target,\n",
    "                     test_metrics= ['auc', 'precision', 'recall', 'f1'],\n",
    "                     project_name= 'explore_kit'\n",
    "                     ) \n",
    "this_auc = this_clf['calc_metrics']['auc']"
   ]
  },
  {
   "cell_type": "code",
   "execution_count": 174,
   "metadata": {},
   "outputs": [],
   "source": [
    "from fangorn.training import classifiers\n",
    "\n",
    "coreparams ={'bootstrap': True,\n",
    " 'max_depth': 7,\n",
    " 'max_features': 'auto',\n",
    " 'min_samples_leaf': 4,\n",
    " 'min_samples_split': 10,\n",
    " 'n_estimators': 300,\n",
    "            'class_weight':\"balanced\"}\n",
    "                \n",
    "this_clf = classifiers.random_forest_classifier(train_set= [X_train_ori, y_train],\n",
    "                     test_set= [X_test_ori, y_test],\n",
    "                     features= X_train_ori.columns,\n",
    "                     core_params=coreparams,\n",
    "#                      hyp;er_params=hyper_params_clf,\n",
    "                     target= target,\n",
    "                     test_metrics= ['auc', 'precision', 'recall', 'f1'],\n",
    "                     project_name= 'explore_kit'\n",
    "                     ) \n",
    "this_auc = this_clf['calc_metrics']['auc']"
   ]
  },
  {
   "cell_type": "code",
   "execution_count": 74,
   "metadata": {},
   "outputs": [],
   "source": [
    "preds_df = this_clf['df_with_preds']"
   ]
  },
  {
   "cell_type": "code",
   "execution_count": 75,
   "metadata": {},
   "outputs": [
    {
     "data": {
      "image/png": "[encoded data removed]",
      "text/plain": [
       "<Figure size 432x288 with 1 Axes>"
      ]
     },
     "metadata": {
      "needs_background": "light"
     },
     "output_type": "display_data"
    }
   ],
   "source": [
    "def calc_metrics(y_true, y_pred, th):\n",
    "    def acc(y_true, y_pred, th):\n",
    "        from sklearn.metrics import accuracy_score\n",
    "        y_pred = list(map(lambda k: 0 if k<=th else 1, y_pred))\n",
    "        return accuracy_score(y_true, y_pred)\n",
    "\n",
    "    def f1(y_true, y_pred, th):\n",
    "        from sklearn.metrics import f1_score\n",
    "        y_pred = list(map(lambda k: 0 if k<=th else 1, y_pred))\n",
    "        return f1_score(y_true, y_pred)\n",
    "\n",
    "    def precision(y_true, y_pred, th):\n",
    "        from sklearn.metrics import precision_score\n",
    "        y_pred = list(map(lambda k: 0 if k<=th else 1, y_pred))\n",
    "        return precision_score(y_true, y_pred, average='macro') \n",
    "\n",
    "    def recall(y_true, y_pred, th):\n",
    "        from sklearn.metrics import recall_score\n",
    "        y_pred = list(map(lambda k: 0 if k<=th else 1, y_pred))\n",
    "        return recall_score(y_true, y_pred, average='macro')\n",
    "\n",
    "    def auc(y_true, y_pred, th):\n",
    "        from sklearn.metrics import roc_auc_score\n",
    "        return roc_auc_score(y_true, y_pred)\n",
    "    \n",
    "    dict_metrics = {}\n",
    "    dict_metrics['acc'] = acc(y_true, y_pred, th)\n",
    "    dict_metrics['f1'] = f1(y_true, y_pred, th)\n",
    "    dict_metrics['precision'] = precision(y_true, y_pred, th)\n",
    "    dict_metrics['recall'] = recall(y_true, y_pred, th)\n",
    "    dict_metrics['auc'] = auc(y_true, y_pred, th)\n",
    "    return dict_metrics\n",
    "\n",
    "import sklearn.metrics as metrics\n",
    "\n",
    "fpr, tpr, threshold = metrics.roc_curve(preds_df['real_value'], preds_df['preds'].values)\n",
    "roc_auc = metrics.auc(fpr, tpr)\n",
    "\n",
    "# method I: plt\n",
    "import matplotlib.pyplot as plt\n",
    "plt.title('Receiver Operating Characteristic')\n",
    "plt.plot(fpr, tpr, 'b', label = 'AUC = %0.2f' % roc_auc)\n",
    "plt.legend(loc = 'lower right')\n",
    "plt.plot([0, 1], [0, 1],'r--')\n",
    "plt.xlim([0, 1])\n",
    "plt.ylim([0, 1])\n",
    "plt.ylabel('True Positive Rate')\n",
    "plt.xlabel('False Positive Rate')\n",
    "plt.show()\n"
   ]
  },
  {
   "cell_type": "code",
   "execution_count": 14,
   "metadata": {},
   "outputs": [
    {
     "data": {
      "text/plain": [
       "{'acc': 0.9076166320805472,\n",
       " 'f1': 0.7330075521990227,\n",
       " 'precision': 0.8504598139473138,\n",
       " 'recall': 0.8280452562933371,\n",
       " 'auc': 0.9339031983742053}"
      ]
     },
     "execution_count": 14,
     "metadata": {},
     "output_type": "execute_result"
    }
   ],
   "source": [
    "calc_metrics(preds_df['real_value'].values, preds_df['preds'].values, 0.37)"
   ]
  },
  {
   "cell_type": "code",
   "execution_count": 77,
   "metadata": {},
   "outputs": [],
   "source": [
    "def plot_curves(y_real, y_preds, th):\n",
    "    y_pred = list(map(lambda k: 0 if k<=th else 1, y_pred))"
   ]
  },
  {
   "cell_type": "code",
   "execution_count": 78,
   "metadata": {},
   "outputs": [],
   "source": [
    "pr, rec, ths = metrics.precision_recall_curve(preds_df['real_value'].values, preds_df['preds'].values)"
   ]
  },
  {
   "cell_type": "code",
   "execution_count": 79,
   "metadata": {},
   "outputs": [],
   "source": [
    "rec = [np.round(x, 4) for x in rec]"
   ]
  },
  {
   "cell_type": "code",
   "execution_count": 80,
   "metadata": {},
   "outputs": [],
   "source": [
    "import matplotlib.pyplot as pyplot"
   ]
  },
  {
   "cell_type": "code",
   "execution_count": null,
   "metadata": {},
   "outputs": [],
   "source": []
  },
  {
   "cell_type": "code",
   "execution_count": 81,
   "metadata": {},
   "outputs": [
    {
     "data": {
      "image/png": "[encoded data removed]",
      "text/plain": [
       "<Figure size 432x288 with 1 Axes>"
      ]
     },
     "metadata": {
      "needs_background": "light"
     },
     "output_type": "display_data"
    }
   ],
   "source": [
    "# pyplot.plot(pr, label='precisão')\n",
    "pyplot.plot(rec, pr, label='Precisão/Revocação')\n",
    "pyplot.plot(ths, rec[:-1], linestyle='--', label='Limiares')\n",
    "pyplot.plot(0.8, 0.63, 'ro', label='Limiar selecionado')\n",
    "pyplot.plot(0.8, 0.4, 'ro')\n",
    "\n",
    "pyplot.axvline(x=0.8, ymin=0, ymax=1)\n",
    "\n",
    "\n",
    "# pyplot.plot(ths, label='limiar')\n",
    "# axis labels\n",
    "pyplot.xlabel('Revocação')\n",
    "pyplot.ylabel('Precisão / Limiar Classificação')\n",
    "# show the legend\n",
    "pyplot.legend()\n",
    "# show the plot\n",
    "pyplot.show()"
   ]
  },
  {
   "cell_type": "code",
   "execution_count": 82,
   "metadata": {},
   "outputs": [
    {
     "data": {
      "text/plain": [
       "['ExploreKit/rank_model_xgb']"
      ]
     },
     "execution_count": 82,
     "metadata": {},
     "output_type": "execute_result"
    }
   ],
   "source": [
    "import joblib\n",
    "joblib.dump(this_clf['model_object'], 'ExploreKit/rank_model_xgb')"
   ]
  },
  {
   "cell_type": "code",
   "execution_count": 83,
   "metadata": {},
   "outputs": [
    {
     "data": {
      "text/plain": [
       "['ExploreKit/df_rank_model_preds']"
      ]
     },
     "execution_count": 83,
     "metadata": {},
     "output_type": "execute_result"
    }
   ],
   "source": [
    "joblib.dump(this_clf['df_with_preds'], 'ExploreKit/df_rank_model_preds')"
   ]
  },
  {
   "cell_type": "code",
   "execution_count": 87,
   "metadata": {},
   "outputs": [],
   "source": [
    "dict_ops = {}\n",
    "for col in X_train_ori.columns:\n",
    "    dict_ops[f'mean_{col}'] = X_train_ori[col].mean()"
   ]
  },
  {
   "cell_type": "code",
   "execution_count": 89,
   "metadata": {},
   "outputs": [
    {
     "data": {
      "text/plain": [
       "['ExploreKit/dict_means_predict']"
      ]
     },
     "execution_count": 89,
     "metadata": {},
     "output_type": "execute_result"
    }
   ],
   "source": [
    "joblib.dump(dict_ops, 'ExploreKit/dict_means_predict')"
   ]
  },
  {
   "cell_type": "code",
   "execution_count": null,
   "metadata": {},
   "outputs": [],
   "source": []
  }
 ],
 "metadata": {
  "kernelspec": {
   "display_name": "basic",
   "language": "python",
   "name": "basic"
  },
  "language_info": {
   "codemirror_mode": {
    "name": "ipython",
    "version": 3
   },
   "file_extension": ".py",
   "mimetype": "text/x-python",
   "name": "python",
   "nbconvert_exporter": "python",
   "pygments_lexer": "ipython3",
   "version": "3.7.0"
  }
 },
 "nbformat": 4,
 "nbformat_minor": 4
}
