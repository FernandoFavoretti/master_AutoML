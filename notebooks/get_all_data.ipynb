{
 "cells": [
  {
   "cell_type": "code",
   "execution_count": 11,
   "metadata": {},
   "outputs": [],
   "source": [
    "import os\n",
    "import configparser\n",
    "from urllib.request import urlretrieve\n",
    "import zipfile\n",
    "\n",
    "config_parser = configparser.ConfigParser()\n",
    "config_parser.read(\"data_links.ini\")\n",
    "\n",
    "\n",
    "def download_and_extract_zip(file_link: str, path: str, filename:str) -> None:\n",
    "    \"\"\"\n",
    "    Download and extract zip file\n",
    "    \"\"\"\n",
    "    download_path = f'{path}/{filename}.zip'\n",
    "    # download file\n",
    "    filehandle, _ = urlretrieve(file_link, download_path)\n",
    "    # unzip file\n",
    "    with zipfile.ZipFile(download_path, 'r') as zip_ref:\n",
    "        zip_ref.extractall(f'{path}/')\n",
    "\n",
    "    print (f\"{filename} downloaded\")\n",
    "    return None\n",
    "    \n",
    "    \n",
    "def get_ml_challenge_data(config_parser: configparser.ConfigParser()) -> None:\n",
    "    \"\"\"\n",
    "    Download data from AutoML challenge\n",
    "    http://automl.chalearn.org/data\n",
    "    \"\"\"\n",
    "    all_links = dict(config_parser.items('ML_CHALLENGE_DATA_LINKS'))\n",
    "    # itera pelas configuracoes baixando os arquivos se necessario\n",
    "    for file in all_links:\n",
    "            # checa se o diretorio do dados ja existe\n",
    "        path_to_check = f\"../data/automl_challenge/{file}\"\n",
    "        if not (os.path.isdir(path_to_check)):\n",
    "            # cria diretorio\n",
    "            os.makedirs(path_to_check)\n",
    "            # baixa e extrai arquivo\n",
    "            download_and_extract_zip(all_links[file], path_to_check, file)\n",
    "    \n",
    "    print(\"All ML_CHALLENGE files ready!\")\n",
    "    return None\n",
    "\n",
    "\n",
    "def get_all_data(config_parser: configparser.ConfigParser()):\n",
    "    \"\"\"\n",
    "    Download all data necessary for this project\n",
    "    \"\"\"\n",
    "    # ml challenge data\n",
    "    get_ml_challenge_data(config_parser)\n",
    "    \n",
    "    #kaggle data...\n",
    "    \n",
    "    \n"
   ]
  },
  {
   "cell_type": "code",
   "execution_count": null,
   "metadata": {},
   "outputs": [
    {
     "name": "stdout",
     "output_type": "stream",
     "text": [
      "adult downloaded\n"
     ]
    }
   ],
   "source": [
    "get_all_data(config_parser)"
   ]
  },
  {
   "cell_type": "code",
   "execution_count": null,
   "metadata": {},
   "outputs": [],
   "source": []
  }
 ],
 "metadata": {
  "kernelspec": {
   "display_name": "Python 3",
   "language": "python",
   "name": "python3"
  },
  "language_info": {
   "codemirror_mode": {
    "name": "ipython",
    "version": 3
   },
   "file_extension": ".py",
   "mimetype": "text/x-python",
   "name": "python",
   "nbconvert_exporter": "python",
   "pygments_lexer": "ipython3",
   "version": "3.7.4"
  }
 },
 "nbformat": 4,
 "nbformat_minor": 4
}
